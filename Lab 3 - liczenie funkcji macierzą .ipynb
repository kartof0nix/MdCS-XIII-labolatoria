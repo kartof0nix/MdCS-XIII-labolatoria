{
 "cells": [
  {
   "cell_type": "markdown",
   "metadata": {},
   "source": [
    "1. Deklaracja klasy 'matrix', która obsługuje mnożenie i potęgowanie macierzy"
   ]
  },
  {
   "cell_type": "code",
   "execution_count": 65,
   "metadata": {},
   "outputs": [],
   "source": [
    "def frange(st, end, tick):\n",
    "  res = []\n",
    "  while(st <= end):\n",
    "    res.append(st)\n",
    "    st += tick\n",
    "    st = round(st, 12)\n",
    "  return res"
   ]
  },
  {
   "cell_type": "code",
   "execution_count": 28,
   "metadata": {},
   "outputs": [
    {
     "name": "stdout",
     "output_type": "stream",
     "text": [
      "[[5, 4], [4, 5]]\n",
      "[[13, 14], [14, 13]]\n"
     ]
    }
   ],
   "source": [
    "\n",
    "\n",
    "class matrix:\n",
    "    def __init__(self, vals = [[1, 0], [0, 1]]):\n",
    "        self.mac = vals\n",
    "\n",
    "    def __mul__(self, oth):\n",
    "        if( len ( self.mac[0] ) != len(oth.mac)):\n",
    "            raise AttributeError('Width of the first matrix MUST match the height of the second matrix. Sizes are ' + str( len ( self.mac[0] )) + ' ' + str (len(oth.mac)) )\n",
    "        w = len(self.mac[0]) \n",
    "        h = len(self.mac)\n",
    "        gl = len(self.mac[0])\n",
    "        new = [[0] * w  for i in range(h)]\n",
    "        for i in range(h):\n",
    "            for j in range(w):\n",
    "                for t in range(gl):\n",
    "                    new[i][j] += self.mac[i][t] * oth.mac[t][j]\n",
    "                #print(new[i][j])\n",
    "        return matrix(new)\n",
    "    \n",
    "    #Potęgowanie za pomocą szybkiego potęgowania macierzy\n",
    "\n",
    "    def __pow__(self, exp):\n",
    "\n",
    "        res = neutral(len(self.mac))  \n",
    "        c_base = matrix(self.mac)\n",
    "\n",
    "        it_bit = 1\n",
    "        while(it_bit <= exp):\n",
    "            if(it_bit & exp):\n",
    "                res *= c_base\n",
    "            c_base *= c_base\n",
    "            it_bit <<= 1\n",
    "        \n",
    "        return res\n",
    "        \n",
    "def neutral(width):\n",
    "    res = []\n",
    "    for i in range(width):\n",
    "        now = []\n",
    "        for j in range(width):\n",
    "            now.append ( int(i == j) )\n",
    "        res.append(now)\n",
    "    return matrix(res)\n",
    "\n",
    "#print(neutral(3).mac)\n",
    "a = matrix([[1, 2], [2, 1]])\n",
    "\n",
    "print( (a**2).mac )\n",
    "print( (a**3).mac)\n",
    "\n",
    "\n",
    "\n",
    "\n",
    "    "
   ]
  },
  {
   "cell_type": "markdown",
   "metadata": {},
   "source": [
    "2. Test dla prostej funkcji z dx/dt = kx "
   ]
  },
  {
   "cell_type": "code",
   "execution_count": 78,
   "metadata": {},
   "outputs": [
    {
     "data": {
      "image/png": "[encoded data removed]",
      "text/plain": [
       "<Figure size 432x288 with 1 Axes>"
      ]
     },
     "metadata": {
      "needs_background": "light"
     },
     "output_type": "display_data"
    }
   ],
   "source": [
    "from matplotlib import pyplot as plt\n",
    "# x(t) = x(t-1) + ( k * x(t-1) ) * dt\n",
    "def gen_fun1(k, dt):\n",
    "    return matrix([\n",
    "        [k*dt, k*dt],\n",
    "        [1   , 1] ])\n",
    "\n",
    "x0 = 1\n",
    "\n",
    "m_dt = 0.000001 # Delta t macierzy\n",
    "r_dt = 0.01  # Delta t obliczana/wyświetlana\n",
    "t_max = 10  # Czas symulacji\n",
    "\n",
    "t = [0]\n",
    "x = [x0]\n",
    "\n",
    "x_mac = matrix ( [[x0, x0], [0,0]] )\n",
    "f1_mac = gen_fun1(1, m_dt)\n",
    "f1_mac = f1_mac**( int ( r_dt / m_dt ) ) # Każdy 'przeskok' obliczeniowy ma długość (r_dt / m_dt). MUSI BYĆ CAŁKOWITE (inaczej nie miałoby sensu)\n",
    "\n",
    "while ( t[-1] < t_max):\n",
    "    t.append ( round ( t[-1] + r_dt, 12 ) )\n",
    "    x_mac *= f1_mac\n",
    "    x.append ( x_mac.mac[0][0] )\n",
    "\n",
    "plt.plot(t, x)\n",
    "plt.show()"
   ]
  },
  {
   "cell_type": "markdown",
   "metadata": {},
   "source": [
    "2b. Prównanie side-by-side"
   ]
  },
  {
   "cell_type": "code",
   "execution_count": 30,
   "metadata": {},
   "outputs": [
    {
     "name": "stdout",
     "output_type": "stream",
     "text": [
      "Rozmiar tablicy : 101\n",
      "Rozmiar tablicy : 101\n",
      "Rozmiar tablicy : 101\n",
      "Rozmiar tablicy : 101\n",
      "Rozmiar tablicy : 101\n"
     ]
    },
    {
     "data": {
      "image/png": "[encoded data removed]",
      "text/plain": [
       "<Figure size 432x288 with 1 Axes>"
      ]
     },
     "metadata": {
      "needs_background": "light"
     },
     "output_type": "display_data"
    }
   ],
   "source": [
    "\n",
    "r_dt = 0.1\n",
    "t_max = 10\n",
    "\n",
    "legend = []\n",
    "\n",
    "for m_dt in [0.1, 0.01, 0.00001, 0.000000000000001, 0.0000000000000001]:\n",
    "    x0 = 1\n",
    "    \n",
    "    t = [0]\n",
    "    x = [x0]\n",
    "\n",
    "    x_mac = matrix ( [[x0, x0], [0,0]] )\n",
    "    f1_mac = gen_fun1(1, m_dt)\n",
    "    f1_mac = f1_mac**( int ( r_dt / m_dt ) ) # 1 przeskok jest 10 razy większy. MUSI BYĆ CAŁKOWITE\n",
    "    #print(f1_mac.mac)\n",
    "    while ( t[-1] < t_max):\n",
    "        t.append ( round ( t[-1] + r_dt, 12 ) )\n",
    "        x_mac *= f1_mac\n",
    "        x.append ( x_mac.mac[0][0] )\n",
    "\n",
    "    plt.plot(t, x)\n",
    "    print( \"Rozmiar tablicy :\" , len(x) )\n",
    "    legend.append( \"dt = \" + str(m_dt) )\n",
    "\n",
    "plt.legend(legend)\n",
    "\n",
    "plt.show()"
   ]
  },
  {
   "cell_type": "markdown",
   "metadata": {},
   "source": [
    "Obserwacja : dt nie może być mniejsze niż 1e-15, bo inaczej python zaokrągla zmiany do 1"
   ]
  },
  {
   "cell_type": "markdown",
   "metadata": {},
   "source": [
    "Konkluzja : Nie udało się osiągnąć zamierzanej dokładności, jednak postęp jest spory - wykres z dokładnością 1e-16 iteracyjnie kalkulowałby się 10^10 sekund lub 321 lat (zakładając 10^6 op/sek)"
   ]
  },
  {
   "cell_type": "markdown",
   "metadata": {},
   "source": [
    "3. Test dla równania logistycznego dx/dt = kx(1 - x/N)"
   ]
  },
  {
   "cell_type": "code",
   "execution_count": 80,
   "metadata": {},
   "outputs": [
    {
     "name": "stdout",
     "output_type": "stream",
     "text": [
      "[[1, 1.0000000000000002e-10, 0], [0, 1, 1], [0, -2.0000000000000002e-11, 1]]\n"
     ]
    },
    {
     "data": {
      "image/png": "[encoded data removed]",
      "text/plain": [
       "<Figure size 432x288 with 1 Axes>"
      ]
     },
     "metadata": {
      "needs_background": "light"
     },
     "output_type": "display_data"
    }
   ],
   "source": [
    "import math\n",
    "# f'(x) = kx(1 - x/N) = kx - kx^2 / N\n",
    "# Mnożenie macierzy nie jest w stanie liczyć x^2. Jednakże, możemy obliczyć pochodną drugiego stopnia, i liczyć pochodną 1-st jako osobną funkcję\n",
    "# f''(x) = k - (k * 2x)/N\n",
    "#  Jako że liczenie jest dwuetapowe, potrzebujemy mieć dwie pary (x, dx/dt) - żeby liczyć jednym mnożeniem jeden etap\n",
    "# \n",
    "# Macierze : \n",
    "#           |1   k   0|  z dt  |1   d*k   0|\n",
    "#           |0   1   1|   =>   |0    1    1| (d to dt)\n",
    "#           |0 -2k/N 1|        |0 d*-2k/N 1|\n",
    "#\n",
    "#  |1 dx x| |1  dx1 x1|\n",
    "\n",
    "\n",
    "#--definicje funkcji--\n",
    "k = 1\n",
    "N = 10\n",
    "x0 = 1\n",
    "\n",
    "m_dt = 0.00001 # Delta t macierzy\n",
    "r_dt = 0.001  # Delta t obliczana (także dla liczenia dt)\n",
    "t_max = 10  # Czas symulacji\n",
    "if( (r_dt / m_dt) % 1 != 0 ):\n",
    "    print(\"Dokładność rzeczywista musi być wielokrotnością dokładności macierzy!\")\n",
    "    raise ArithmeticError((\"Dokładność rzeczywista musi być wielokrotnością dokładności macierzy!\"))\n",
    "\n",
    "#--Liczę roz. numeryczne dla porównania--\n",
    "def f_2(t):\n",
    "  return N / ( 1 - (1 - N / x0) * math.e ** (-k * t) )\n",
    "\n",
    "t_anal = frange(0, t_max, 0.01)\n",
    "n_anal = [f_2(t) for t in t_anal]\n",
    "\n",
    "\n",
    "#--liczenie funkci--\n",
    "\n",
    "# Ważne jest żeby co jakiś czas liczyć ręcznie dx, żeby dx w macierzy nie różniła się znacząco od rzeczywistej\n",
    "def dx(x, dt):\n",
    "    return dt * ( k*x - k * x**2 / N )\n",
    "\n",
    "def gen_fun2(k, dt, N):\n",
    "    k*= dt*dt\n",
    "    return matrix([\n",
    "        [1,    k,   0],\n",
    "        [0,    1,   1],\n",
    "        [0, -2*k/N, 1] ])\n",
    "    \n",
    "\n",
    "x_mac = matrix ( [[1, dx(x0, m_dt), x0]] )\n",
    " \n",
    "t = [0]\n",
    "x = [x0]\n",
    "f2_mac = gen_fun2(k, m_dt, N)\n",
    "print(f2_mac.mac)\n",
    "f2_mac = f2_mac ** (int ( r_dt / m_dt )) # ile razy trzeba przemnożyć\n",
    "\n",
    "#print(x_mac.mac)\n",
    "#print(f2_mac.mac)\n",
    "while ( t[-1] < t_max):\n",
    "    #print(x_mac.mac, f2_mac.mac)\n",
    "    x_mac *= f2_mac\n",
    "    x_mac.mac[0][1] = dx(x_mac.mac[0][2], m_dt)# Updare dx\n",
    "    t.append ( round ( t[-1] + r_dt, 12 ) )\n",
    "    x.append ( x_mac.mac[0][2] )\n",
    "#print(t)\n",
    "#print(x)\n",
    "\n",
    "#--wypisywanie--\n",
    "\n",
    "plt.plot(t, x, linewidth=5)\n",
    "plt.plot(t_anal, n_anal)\n",
    "plt.legend([\"x num\", \"x anal.\"])\n",
    "\n",
    "plt.xlabel('t')\n",
    "plt.ylabel('x(t)')\n",
    "\n",
    "\n",
    "\n",
    "plt.show()\n",
    "\n"
   ]
  },
  {
   "cell_type": "markdown",
   "metadata": {},
   "source": []
  }
 ],
 "metadata": {
  "interpreter": {
   "hash": "916dbcbb3f70747c44a77c7bcd40155683ae19c65e1c03b4aa3499c5328201f1"
  },
  "kernelspec": {
   "display_name": "Python 3.9.7 64-bit",
   "language": "python",
   "name": "python3"
  },
  "language_info": {
   "codemirror_mode": {
    "name": "ipython",
    "version": 3
   },
   "file_extension": ".py",
   "mimetype": "text/x-python",
   "name": "python",
   "nbconvert_exporter": "python",
   "pygments_lexer": "ipython3",
   "version": "3.9.7"
  },
  "orig_nbformat": 4
 },
 "nbformat": 4,
 "nbformat_minor": 2
}
