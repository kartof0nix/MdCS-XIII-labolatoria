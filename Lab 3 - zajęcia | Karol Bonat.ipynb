{
  "cells": [
    {
      "cell_type": "markdown",
      "metadata": {
        "colab_type": "text",
        "id": "view-in-github"
      },
      "source": [
        "<a href=\"https://colab.research.google.com/github/kartof0nix/MdCS-XIII-labolatoria/blob/main/Karol%20Bonat%20lab3.ipynb\" target=\"_parent\"><img src=\"https://colab.research.google.com/assets/colab-badge.svg\" alt=\"Open In Colab\"/></a>"
      ]
    },
    {
      "cell_type": "code",
      "execution_count": 2,
      "metadata": {
        "id": "AGNUd2BuJJ9g"
      },
      "outputs": [],
      "source": [
        "from matplotlib import pyplot as plt"
      ]
    },
    {
      "cell_type": "code",
      "execution_count": 3,
      "metadata": {
        "id": "fmDA0aN7HAkS"
      },
      "outputs": [
        {
          "data": {
            "text/plain": [
              "[1,\n",
              " 1.1,\n",
              " 1.2,\n",
              " 1.3,\n",
              " 1.4,\n",
              " 1.5,\n",
              " 1.6,\n",
              " 1.7,\n",
              " 1.8,\n",
              " 1.9,\n",
              " 2.0,\n",
              " 2.1,\n",
              " 2.2,\n",
              " 2.3,\n",
              " 2.4,\n",
              " 2.5,\n",
              " 2.6,\n",
              " 2.7,\n",
              " 2.8,\n",
              " 2.9,\n",
              " 3.0]"
            ]
          },
          "execution_count": 3,
          "metadata": {},
          "output_type": "execute_result"
        }
      ],
      "source": [
        "def frange(st, end, tick):\n",
        "  res = []\n",
        "  while(st <= end):\n",
        "    res.append(st)\n",
        "    st += tick\n",
        "    st = round(st, 12)\n",
        "  return res\n",
        "\n",
        "frange(1, 3, 0.1)"
      ]
    },
    {
      "cell_type": "code",
      "execution_count": 4,
      "metadata": {
        "colab": {
          "base_uri": "https://localhost:8080/",
          "height": 265
        },
        "id": "ozE6SGl8IUof",
        "outputId": "46e8a158-6933-422a-a229-216c47abffa1"
      },
      "outputs": [
        {
          "data": {
            "image/png": "[encoded data removed]",
            "text/plain": [
              "<Figure size 432x288 with 1 Axes>"
            ]
          },
          "metadata": {
            "needs_background": "light"
          },
          "output_type": "display_data"
        }
      ],
      "source": [
        "k = 1\n",
        "n0 = 1\n",
        "\n",
        "t_dt = 0.01\n",
        "t_max = 10\n",
        "\n",
        "t = [0]\n",
        "n = [n0]\n",
        "\n",
        "while(t[-1] < t_max):\n",
        "  t.append( round(t[-1] + t_dt, 12) )\n",
        "  n.append( n[-1] + (n[-1]*k) * t_dt )\n",
        "\n",
        "plt.plot(t, n)\n",
        "\n",
        "plt.show()\n"
      ]
    },
    {
      "cell_type": "markdown",
      "metadata": {
        "id": "HBLiPN_eKp6b"
      },
      "source": [
        "Zadanie 2.0.1 "
      ]
    },
    {
      "cell_type": "code",
      "execution_count": 5,
      "metadata": {
        "colab": {
          "base_uri": "https://localhost:8080/",
          "height": 279
        },
        "id": "zDfZ8piNKysp",
        "outputId": "b3c91f10-2d2d-4e25-fe63-adb47831d2d9"
      },
      "outputs": [
        {
          "data": {
            "image/png": "[encoded data removed]",
            "text/plain": [
              "<Figure size 432x288 with 1 Axes>"
            ]
          },
          "metadata": {
            "needs_background": "light"
          },
          "output_type": "display_data"
        }
      ],
      "source": [
        "k = 1\n",
        "n0 = 1\n",
        "\n",
        "t_max = 10\n",
        "\n",
        "for t_dt in [0.1, 0.01, 0.001]:\n",
        "  t = [0]\n",
        "  n = [n0]\n",
        "\n",
        "  while(t[-1] < t_max):\n",
        "    t.append( round(t[-1] + t_dt, 12) )\n",
        "    n.append( n[-1] + (n[-1]*k) * t_dt )\n",
        "\n",
        "  plt.plot(t, n)\n",
        "\n",
        "plt.legend([\"dt = 0.1\", \"dt = 0.01\", \"dt = 0.001\"])\n",
        "plt.xlabel(\"t\")\n",
        "plt.ylabel(\"n\")\n",
        "plt.show()"
      ]
    },
    {
      "cell_type": "markdown",
      "metadata": {
        "id": "6fdEzYMASDVN"
      },
      "source": [
        " (z rozwiązaniem analitycznym )\n"
      ]
    },
    {
      "cell_type": "code",
      "execution_count": 6,
      "metadata": {
        "colab": {
          "base_uri": "https://localhost:8080/"
        },
        "id": "cNnesGLJSsOB",
        "outputId": "6627bc20-2ff1-4d10-b7eb-da9aeac31142"
      },
      "outputs": [
        {
          "data": {
            "text/plain": [
              "2.718281828459045"
            ]
          },
          "execution_count": 6,
          "metadata": {},
          "output_type": "execute_result"
        }
      ],
      "source": [
        "import math\n",
        "\n",
        "math.exp(1)"
      ]
    },
    {
      "cell_type": "code",
      "execution_count": 7,
      "metadata": {
        "colab": {
          "base_uri": "https://localhost:8080/",
          "height": 333
        },
        "id": "hzB24JdkSJQJ",
        "outputId": "f7f955a4-0842-4ac8-f4cf-5fe77dde6168"
      },
      "outputs": [
        {
          "name": "stdout",
          "output_type": "stream",
          "text": [
            "100001\n",
            "100001\n",
            "100001\n"
          ]
        },
        {
          "data": {
            "image/png": "[encoded data removed]",
            "text/plain": [
              "<Figure size 432x288 with 1 Axes>"
            ]
          },
          "metadata": {
            "needs_background": "light"
          },
          "output_type": "display_data"
        }
      ],
      "source": [
        "\n",
        "k = 1\n",
        "n0 = 1\n",
        "\n",
        "t = [0]\n",
        "n = [n0]\n",
        "n_anal = [n0]\n",
        "\n",
        "t_max = 10\n",
        "t_dt = 0.0001\n",
        "\n",
        "while(t[-1] < t_max):\n",
        "  t.append(t[-1] + t_dt )\n",
        "  t[-1] = round(t[-1], 6)\n",
        "  n.append(n[-1] + (k * n[-1]) * t_dt )\n",
        "  n_anal.append(n0 * math.exp (k*t[-1]) )\n",
        "\n",
        "print(len(t))\n",
        "print(len(n))\n",
        "print(len(n_anal))\n",
        "\n",
        "plt.plot(t, n, linewidth = 5)\n",
        "plt.plot(t, n_anal, linewidth=3)\n",
        "\n",
        "\n",
        "plt.xlabel(\"t\")\n",
        "plt.ylabel(\"n\")\n",
        "plt.show()"
      ]
    },
    {
      "cell_type": "markdown",
      "metadata": {
        "id": "30JVwIqmVa1c"
      },
      "source": [
        "Zadanie 2.0.2"
      ]
    },
    {
      "cell_type": "code",
      "execution_count": 8,
      "metadata": {
        "colab": {
          "base_uri": "https://localhost:8080/",
          "height": 279
        },
        "id": "ROzJOTxCVaS-",
        "outputId": "54b35839-67ac-4c29-841d-b5ccc7a338fe"
      },
      "outputs": [
        {
          "data": {
            "image/png": "[encoded data removed]",
            "text/plain": [
              "<Figure size 432x288 with 1 Axes>"
            ]
          },
          "metadata": {
            "needs_background": "light"
          },
          "output_type": "display_data"
        }
      ],
      "source": [
        "class SymulacjaLogistyczna:\n",
        "  dt = 0.001\n",
        "  def __init__(self, k, N, n0):\n",
        "    self.k = k\n",
        "    self.N = N\n",
        "    self.n = [n0]\n",
        "    self.t = [0]\n",
        "\n",
        "  def next_tick(s):\n",
        "    s.t.append( round ( s.t[-1] + s.dt, 12 ) )\n",
        "    s.n.append( s.n[-1] + ( s.k * s.n[-1] * (1 - s.n[-1] / s.N) ) * s.dt ) \n",
        "\n",
        "  def simulate(self, t_max):\n",
        "    while ( self.t[-1] < t_max ):\n",
        "      self.next_tick()\n",
        "    \n",
        "\n",
        "krol = SymulacjaLogistyczna(1, 10, 1)\n",
        "krol.simulate(10)\n",
        "\n",
        "#print(krol.t, krol.n, sep = '\\n')\n",
        "\n",
        "plt.plot(krol.t, krol.n)\n",
        "plt.xlabel(\"n(t)\")\n",
        "plt.ylabel(\"t\")\n",
        "\n",
        "plt.show()"
      ]
    },
    {
      "cell_type": "markdown",
      "metadata": {
        "id": "EMgtdLCJXZuW"
      },
      "source": [
        "Zadanie 2.0.3"
      ]
    },
    {
      "cell_type": "code",
      "execution_count": 9,
      "metadata": {
        "colab": {
          "base_uri": "https://localhost:8080/",
          "height": 279
        },
        "id": "GZD1z3iVXvNo",
        "outputId": "1e1e70d1-8805-446d-cdce-79b4aac236ca"
      },
      "outputs": [
        {
          "data": {
            "image/png": "[encoded data removed]",
            "text/plain": [
              "<Figure size 432x288 with 1 Axes>"
            ]
          },
          "metadata": {
            "needs_background": "light"
          },
          "output_type": "display_data"
        }
      ],
      "source": [
        "k = 1\n",
        "N = 10\n",
        "\n",
        "n0 = 1\n",
        "def f_n(t):\n",
        "  return N / ( 1 - (1 - N / n0) * math.e ** (-k * t) )\n",
        "\n",
        "t_anal = frange(0, 10, 0.001)\n",
        "n_anal = [f_n(t) for t in t_anal]\n",
        "\n",
        "plt.plot(krol.t, krol.n, linewidth = 5)\n",
        "plt.plot(t_anal, n_anal)\n",
        "\n",
        "plt.legend([\"n num\", \"n anal.\"])\n",
        "\n",
        "plt.xlabel('t')\n",
        "plt.ylabel('n(t)')\n",
        "\n",
        "plt.show()"
      ]
    },
    {
      "cell_type": "markdown",
      "metadata": {
        "id": "8i0KjQexaXo8"
      },
      "source": [
        "Zadanie 2.0.4"
      ]
    },
    {
      "cell_type": "code",
      "execution_count": 10,
      "metadata": {
        "colab": {
          "base_uri": "https://localhost:8080/",
          "height": 265
        },
        "id": "q0-1RlM0aact",
        "outputId": "65364a25-a3e7-4264-ee0e-fad426149284"
      },
      "outputs": [
        {
          "data": {
            "image/png": "[encoded data removed]",
            "text/plain": [
              "<Figure size 432x288 with 1 Axes>"
            ]
          },
          "metadata": {
            "needs_background": "light"
          },
          "output_type": "display_data"
        }
      ],
      "source": [
        "class SymulacjaLogistyczna:\n",
        "  dt = 0.001\n",
        "  def __init__(self, k, N, n0):\n",
        "    self.k = k\n",
        "    self.N = N\n",
        "    self.n = [n0]\n",
        "    self.t = [0]\n",
        "\n",
        "  def next_tick(s):\n",
        "    s.t.append( round ( s.t[-1] + s.dt, 12 ) )\n",
        "    s.n.append( s.n[-1] + ( s.k * s.n[-1] * (1 - s.n[-1] / s.N) ) * s.dt ) \n",
        "\n",
        "  def simulate(self, t_max):\n",
        "    while ( self.t[-1] < t_max ):\n",
        "      self.next_tick()\n",
        "\n",
        "legenda = []\n",
        "for n0 in ([0, 1] + list(range(5, 21, 5))):\n",
        "  sym = SymulacjaLogistyczna(1, 10, n0)\n",
        "  sym.simulate(10)\n",
        "  plt.plot(sym.t, sym.n)\n",
        "  legenda.append( \"n0 = \" + str(n0) )\n",
        "\n",
        "plt.legend(legenda)\n",
        "plt.show()"
      ]
    },
    {
      "cell_type": "markdown",
      "metadata": {
        "id": "nsbEK3HeLZqT"
      },
      "source": [
        "Zadanie 3.0.1"
      ]
    },
    {
      "cell_type": "code",
      "execution_count": null,
      "metadata": {
        "colab": {
          "base_uri": "https://localhost:8080/",
          "height": 283
        },
        "id": "LmXGaIHeLjxg",
        "outputId": "e6d73dcf-3637-42f5-f69d-59bf2d8e6575"
      },
      "outputs": [
        {
          "name": "stdout",
          "output_type": "stream",
          "text": [
            "Przybliżenie szukanego k : 100000.0\n"
          ]
        },
        {
          "data": {
            "image/png": "[encoded data removed]",
            "text/plain": [
              "<Figure size 432x288 with 1 Axes>"
            ]
          },
          "metadata": {
            "needs_background": "light"
          },
          "output_type": "display_data"
        }
      ],
      "source": [
        "class SymulacjaWirusa:\n",
        "  dt = 0.01\n",
        "  def __init__(self, k, m, V0):\n",
        "    self.k = k\n",
        "    self.m = m\n",
        "    self.v = [V0]\n",
        "    self.t = [0]\n",
        "\n",
        "  def next_tick(self):\n",
        "    self.t.append( round ( self.t[-1] + self.dt, 12 ) )\n",
        "    self.v.append( self.v[-1] + (self.k - self.m * self.v[-1]) * self.dt ) \n",
        "\n",
        "  def simulate(self, t_max):\n",
        "    while ( self.t[-1] < t_max ):\n",
        "      self.next_tick()\n",
        "\n",
        "\n",
        "m = 2.77\n",
        "\n",
        "#time for BINSEARCZ!!\n",
        "\n",
        "szuk_poz = 300000\n",
        "st, end = 0, 100000\n",
        "\n",
        "while(end - st > 0.00001):\n",
        "\n",
        "  bin_k = (st + end) / 2\n",
        "  HIV = SymulacjaWirusa(bin_k, m, 0)\n",
        "  HIV.simulate(20)\n",
        "\n",
        "  if(HIV.v[-1] < szuk_poz):\n",
        "    st = bin_k\n",
        "  else:\n",
        "    kon = bin_k\n",
        "\n",
        "\n",
        "print(\"Przybliżenie szukanego k : \" + str(round(st, 4)))\n",
        "HIV = SymulacjaWirusa(bin_k, m, 0)\n",
        "HIV.simulate(20)\n",
        "\n",
        "plt.plot(HIV.t, HIV.v)\n",
        "\n",
        "plt.show()\n",
        "\n",
        "\n",
        "\n"
      ]
    }
  ],
  "metadata": {
    "colab": {
      "collapsed_sections": [],
      "include_colab_link": true,
      "name": "Karol Bonat lab3 - temp.ipynb",
      "provenance": []
    },
    "interpreter": {
      "hash": "916dbcbb3f70747c44a77c7bcd40155683ae19c65e1c03b4aa3499c5328201f1"
    },
    "kernelspec": {
      "display_name": "Python 3.9.7 64-bit",
      "language": "python",
      "name": "python3"
    },
    "language_info": {
      "codemirror_mode": {
        "name": "ipython",
        "version": 3
      },
      "file_extension": ".py",
      "mimetype": "text/x-python",
      "name": "python",
      "nbconvert_exporter": "python",
      "pygments_lexer": "ipython3",
      "version": "3.9.7"
    }
  },
  "nbformat": 4,
  "nbformat_minor": 0
}
