{
 "cells": [
  {
   "cell_type": "markdown",
   "metadata": {},
   "source": [
    "Zadanie 6.0.1"
   ]
  },
  {
   "cell_type": "code",
   "execution_count": 1,
   "metadata": {},
   "outputs": [
    {
     "name": "stdout",
     "output_type": "stream",
     "text": [
      "2\n",
      "4\n",
      "8\n",
      "16\n",
      "32\n",
      "64\n",
      "128\n",
      "256\n",
      "512\n",
      "1024\n"
     ]
    }
   ],
   "source": [
    "current_pow = 2\n",
    "pow_2 = []\n",
    "for i in range(10):\n",
    "    print(current_pow)\n",
    "    pow_2.append(current_pow)\n",
    "    current_pow <<= 1 # Przesunięcie bitowe o 1 (pomnożenie przez 2)\n"
   ]
  },
  {
   "cell_type": "markdown",
   "metadata": {},
   "source": [
    "Zadanie 6.0.2"
   ]
  },
  {
   "cell_type": "code",
   "execution_count": 2,
   "metadata": {},
   "outputs": [
    {
     "data": {
      "text/plain": [
       "[2.0, 2.5, 3.0, 3.5, 4.0]"
      ]
     },
     "execution_count": 2,
     "metadata": {},
     "output_type": "execute_result"
    }
   ],
   "source": [
    "def range_cl(st, kn, n):\n",
    "    n -= 1\n",
    "    res = []\n",
    "    roz = kn - st\n",
    "    for i in range(n+1):\n",
    "        res.append ( st + (roz * i / n) )\n",
    "    return res\n",
    "range_cl(2, 4, 5)\n"
   ]
  },
  {
   "cell_type": "markdown",
   "metadata": {},
   "source": [
    "Zadanie 6.0.3"
   ]
  },
  {
   "cell_type": "code",
   "execution_count": 3,
   "metadata": {},
   "outputs": [
    {
     "name": "stdout",
     "output_type": "stream",
     "text": [
      "0.2599210498948732 0.3228011545636722 0.33222835420891883\n",
      "1.0 4.641588833612779 21.54434690031884\n"
     ]
    }
   ],
   "source": [
    "def f(x):\n",
    "    return x**(1/3)\n",
    "\n",
    "def poch_w_pkt(x, dx):\n",
    "    return (f(x + dx) - f(x) ) / dx\n",
    "\n",
    "print(poch_w_pkt(1, 1), poch_w_pkt(1, 0.1), poch_w_pkt(1, 0.01))\n",
    "print(poch_w_pkt(0, 1), poch_w_pkt(0, 0.1), poch_w_pkt(0, 0.01))"
   ]
  },
  {
   "cell_type": "markdown",
   "metadata": {},
   "source": [
    "Obserwacja : Dla obydwu zmniejszanie delta x zwiększa oszacowaną pochodną"
   ]
  },
  {
   "cell_type": "markdown",
   "metadata": {},
   "source": [
    "6.0.4"
   ]
  },
  {
   "cell_type": "code",
   "execution_count": 4,
   "metadata": {},
   "outputs": [
    {
     "data": {
      "image/png": "[encoded data removed]",
      "text/plain": [
       "<Figure size 432x288 with 1 Axes>"
      ]
     },
     "metadata": {
      "needs_background": "light"
     },
     "output_type": "display_data"
    }
   ],
   "source": [
    "import matplotlib.pyplot as plt\n",
    "from math import e as e\n",
    "\n",
    "def arange(st, end, tick):\n",
    "  res = []\n",
    "  while(st <= end):\n",
    "    res.append(st)\n",
    "    st+= tick\n",
    "  return res\n",
    "\n",
    "def f(n):\n",
    "    return (1 + 1/n)**n\n",
    "\n",
    "x_arr = arange(1, 1000, 1)\n",
    "y_arr = [0] * 1000\n",
    "for i in range(1000):\n",
    "    y_arr[i] = f( x_arr[i] )\n",
    "plt.plot(x_arr, y_arr)\n",
    "plt.plot([0, 1000], [e, e])\n",
    "plt.legend(['f(n)', 'e'])\n",
    "plt.show()\n",
    "\n"
   ]
  },
  {
   "cell_type": "markdown",
   "metadata": {},
   "source": [
    "Wartość f(n) rzeczywiście dąży do stałej e"
   ]
  }
 ],
 "metadata": {
  "interpreter": {
   "hash": "916dbcbb3f70747c44a77c7bcd40155683ae19c65e1c03b4aa3499c5328201f1"
  },
  "kernelspec": {
   "display_name": "Python 3.9.7 64-bit",
   "language": "python",
   "name": "python3"
  },
  "language_info": {
   "codemirror_mode": {
    "name": "ipython",
    "version": 3
   },
   "file_extension": ".py",
   "mimetype": "text/x-python",
   "name": "python",
   "nbconvert_exporter": "python",
   "pygments_lexer": "ipython3",
   "version": "3.9.7"
  },
  "orig_nbformat": 4
 },
 "nbformat": 4,
 "nbformat_minor": 2
}
