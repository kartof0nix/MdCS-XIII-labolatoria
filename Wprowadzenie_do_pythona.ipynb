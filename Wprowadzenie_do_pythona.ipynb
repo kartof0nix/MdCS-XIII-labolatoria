{
 "cells": [
  {
   "cell_type": "code",
   "execution_count": 3,
   "metadata": {},
   "outputs": [
    {
     "name": "stdout",
     "output_type": "stream",
     "text": [
      "6\n",
      "8\n",
      "128\n",
      "4.7\n",
      "4\n",
      "7\n"
     ]
    }
   ],
   "source": [
    "print ( 2 + 2 * 2 )\n",
    "print ( (2 + 2) * 2 )\n",
    "print ( 2 ** 7 )\n",
    "print ( 47 / 10 )\n",
    "print ( 47 // 10 )\n",
    "print ( 47 % 10 )"
   ]
  },
  {
   "cell_type": "markdown",
   "metadata": {},
   "source": [
    "Zadanie 1.2.1 - dziesięciocyfrowe potęgi dwójki"
   ]
  },
  {
   "cell_type": "code",
   "execution_count": 21,
   "metadata": {},
   "outputs": [
    {
     "name": "stdout",
     "output_type": "stream",
     "text": [
      "1073741824\n",
      "2147483648\n",
      "4294967296\n",
      "8589934592\n"
     ]
    }
   ],
   "source": [
    "#Binsearch pierwszej dziesięciocyfrowej potęgi 2\n",
    "st = 1\n",
    "kon = 50\n",
    "sz = 10**9\n",
    "while ( st <= kon):\n",
    "    sr = (st + kon) // 2\n",
    "    if( (1 << sr) <= sz):\n",
    "        st = sr + 1\n",
    "    else:\n",
    "        kon = sr - 1\n",
    "# st = wyn\n",
    "res = []\n",
    "ter = 1 << st\n",
    "gra = 10**10\n",
    "while ( ter < gra ):\n",
    "    res.append(ter)\n",
    "    ter <<= 1\n",
    "\n",
    "#print(res)\n",
    "# A nie, miałem to zrobić jak z kalkulatora. W takim razie poniżej\n",
    "a = 2**10\n",
    "#print(a)\n",
    "a = 2**25\n",
    "#print(a)\n",
    "a = 2**30\n",
    "print(a)\n",
    "a *= 2\n",
    "print(a)\n",
    "a *= 2\n",
    "print(a)\n",
    "a *= 2\n",
    "print(a)"
   ]
  },
  {
   "cell_type": "markdown",
   "metadata": {},
   "source": [
    "Zadanie 1.2.2"
   ]
  },
  {
   "cell_type": "code",
   "execution_count": 15,
   "metadata": {},
   "outputs": [
    {
     "name": "stdout",
     "output_type": "stream",
     "text": [
      "10.0\n",
      "1.0\n",
      "3.0\n"
     ]
    }
   ],
   "source": [
    "w = 10.7\n",
    "w = w // 1\n",
    "print(w)\n",
    "\n",
    "w = 1.1234\n",
    "w = w // 1\n",
    "print(w)\n",
    "\n",
    "w = 3.5\n",
    "w = w // 1\n",
    "print(w)\n",
    "\n"
   ]
  },
  {
   "cell_type": "markdown",
   "metadata": {},
   "source": [
    "Zadanie 1.3.1"
   ]
  },
  {
   "cell_type": "code",
   "execution_count": 22,
   "metadata": {},
   "outputs": [
    {
     "name": "stdout",
     "output_type": "stream",
     "text": [
      "2.0\n",
      "2.25\n",
      "2.37037037037037\n",
      "2.44140625\n",
      "2.4883199999999994\n",
      "2.5937424601000023\n",
      "2.7048138294215285\n",
      "2.7169239322355936\n",
      "2.7181459268249255\n"
     ]
    }
   ],
   "source": [
    "for n in [1, 2, 3, 4, 5, 10, 100, 1000, 10000]:\n",
    "    print( (1 + 1/n) ** n )"
   ]
  },
  {
   "cell_type": "markdown",
   "metadata": {},
   "source": [
    "Zadanie 2.1.1"
   ]
  },
  {
   "cell_type": "code",
   "execution_count": 23,
   "metadata": {},
   "outputs": [
    {
     "name": "stdout",
     "output_type": "stream",
     "text": [
      "1\n",
      "-1\n",
      "3\n",
      "-3\n",
      "5\n",
      "-5\n",
      "7\n",
      "-7\n",
      "9\n",
      "-9\n",
      "11\n",
      "-11\n",
      "13\n",
      "-13\n",
      "15\n",
      "-15\n",
      "17\n",
      "-17\n",
      "19\n",
      "-19\n"
     ]
    }
   ],
   "source": [
    "for i in range(1, 20, 2):\n",
    "    print(i)\n",
    "    print(-i)"
   ]
  },
  {
   "cell_type": "markdown",
   "metadata": {},
   "source": [
    "Zadanie 4.1.1"
   ]
  },
  {
   "cell_type": "code",
   "execution_count": 28,
   "metadata": {},
   "outputs": [
    {
     "name": "stdout",
     "output_type": "stream",
     "text": [
      "Punkt 10 2 jest Na zewnątrz\n",
      "Punkt 10 5 jest Na okręgu\n",
      "Punkt 8 8 jest Wewnątrz\n",
      "Na zewnątrz\n"
     ]
    }
   ],
   "source": [
    "# Tak rozwiązuje wszystkie zasania z geometri w programowaniu (choć musiałem tłumaczyć z C++ na Python)\n",
    "class pkt:\n",
    "    def __init__(self, x, y):\n",
    "        self.x = x\n",
    "        self.y = y\n",
    "\n",
    "r = 5\n",
    "O = pkt(5, 5)\n",
    "def stosunek(p:pkt):\n",
    "    if ( (p.x - O.x)**2 + (p.y - O.y)**2 <  r**2 ):\n",
    "        print(\"Wewnątrz\")\n",
    "    if ( (p.x - O.x)**2 + (p.y - O.y)**2 == r**2 ):\n",
    "        print(\"Na okręgu\")\n",
    "    else:\n",
    "        print(\"Na zewnątrz\")\n",
    "    \n",
    "\n",
    "for p in [pkt(10, 2), pkt(10, 5), pkt(8, 8)]:\n",
    "    print(\"Punkt\", p.x, p.y, 'jest ', sep = ' ', end='')\n",
    "    stosunek(p)"
   ]
  },
  {
   "cell_type": "markdown",
   "metadata": {},
   "source": [
    "Zadanie 4.2.1"
   ]
  },
  {
   "cell_type": "code",
   "execution_count": 32,
   "metadata": {},
   "outputs": [
    {
     "name": "stdout",
     "output_type": "stream",
     "text": [
      "18.0\n"
     ]
    }
   ],
   "source": [
    "def suma_liczb(a, b):\n",
    "    #Zrobiłbym to wzorkiem na sumę :(  ):\n",
    "    a //= 1\n",
    "    a += 1\n",
    "    sum = 0\n",
    "    while (a < b):\n",
    "        sum += a\n",
    "        a+=1\n",
    "    return sum\n",
    "\n",
    "a = float( input() )\n",
    "b = float ( input() )\n",
    "print(suma_liczb(a, b))"
   ]
  },
  {
   "cell_type": "markdown",
   "metadata": {},
   "source": [
    "5 - ZADANIA DODATKOWE"
   ]
  },
  {
   "cell_type": "markdown",
   "metadata": {},
   "source": [
    "Zadanie 5.0.1"
   ]
  },
  {
   "cell_type": "code",
   "execution_count": 49,
   "metadata": {},
   "outputs": [
    {
     "name": "stdout",
     "output_type": "stream",
     "text": [
      "338350\n"
     ]
    }
   ],
   "source": [
    "sum = 0\n",
    "for i in range(1, 101):\n",
    "    sum += i**2\n",
    "print(sum)"
   ]
  },
  {
   "cell_type": "markdown",
   "metadata": {},
   "source": [
    "Zadanie 5.0.2"
   ]
  },
  {
   "cell_type": "code",
   "execution_count": 52,
   "metadata": {},
   "outputs": [
    {
     "name": "stdout",
     "output_type": "stream",
     "text": [
      "\n",
      "7\n",
      "77\n",
      "777\n",
      "7777\n",
      "77777\n",
      "777777\n",
      "7777777\n"
     ]
    }
   ],
   "source": [
    "n = int(input())\n",
    "\n",
    "for i in range(n):\n",
    "    for j in range(i):\n",
    "        print(end='7')\n",
    "    print()"
   ]
  },
  {
   "cell_type": "markdown",
   "metadata": {},
   "source": [
    "6 - PRACA DOMOWA NR.1"
   ]
  },
  {
   "cell_type": "markdown",
   "metadata": {},
   "source": [
    "Zadanie 6.0.1"
   ]
  },
  {
   "cell_type": "code",
   "execution_count": 33,
   "metadata": {},
   "outputs": [
    {
     "name": "stdout",
     "output_type": "stream",
     "text": [
      "14 21 28 35 42 49 56 63 70 77 84 91 98 "
     ]
    }
   ],
   "source": [
    "for i in range(10, 100):\n",
    "    if(i % 7 == 0):\n",
    "        print ( i, end = ' ')\n",
    "    \n"
   ]
  },
  {
   "cell_type": "markdown",
   "metadata": {},
   "source": [
    "Zadanie 6.0.2"
   ]
  },
  {
   "cell_type": "code",
   "execution_count": 35,
   "metadata": {},
   "outputs": [
    {
     "name": "stdout",
     "output_type": "stream",
     "text": [
      "65536\n",
      "-32768.0\n",
      "16384.0\n",
      "-8192.0\n",
      "4096.0\n",
      "-2048.0\n",
      "1024.0\n",
      "-512.0\n",
      "256.0\n",
      "-128.0\n",
      "64.0\n",
      "-32.0\n",
      "16.0\n",
      "-8.0\n",
      "4.0\n",
      "-2.0\n",
      "1.0\n",
      "-0.5\n",
      "0.25\n",
      "-0.125\n"
     ]
    },
    {
     "data": {
      "text/plain": [
       "1048576"
      ]
     },
     "execution_count": 35,
     "metadata": {},
     "output_type": "execute_result"
    }
   ],
   "source": [
    "elem = 65536\n",
    "\n",
    "for i in range(20):\n",
    "    print(elem)\n",
    "    elem *= -1/2\n"
   ]
  },
  {
   "cell_type": "markdown",
   "metadata": {},
   "source": [
    "Zadanie 6.0.3"
   ]
  },
  {
   "cell_type": "code",
   "execution_count": 38,
   "metadata": {},
   "outputs": [
    {
     "name": "stdout",
     "output_type": "stream",
     "text": [
      "0\n",
      "1\n",
      "1\n",
      "2\n",
      "3\n",
      "5\n",
      "8\n",
      "13\n",
      "21\n",
      "34\n",
      "55\n",
      "89\n",
      "144\n",
      "233\n",
      "377\n",
      "610\n",
      "987\n",
      "1597\n",
      "2584\n",
      "4181\n",
      "6765\n",
      "10946\n"
     ]
    }
   ],
   "source": [
    "ciag_fib = [0, 1]\n",
    "print(0, 1, sep='\\n')\n",
    "for i in range(20):\n",
    "    ciag_fib.append( ciag_fib[-1] + ciag_fib[-2])\n",
    "    print(ciag_fib[-1])"
   ]
  },
  {
   "cell_type": "markdown",
   "metadata": {},
   "source": [
    "Zadanie 6.0.4"
   ]
  },
  {
   "cell_type": "code",
   "execution_count": 36,
   "metadata": {},
   "outputs": [
    {
     "name": "stdout",
     "output_type": "stream",
     "text": [
      "10068347520\n"
     ]
    }
   ],
   "source": [
    "#Jeśli dobrze zrozumiałem, losujemy 6 liczb, po wylosowaniu liczba nie może się powtórzyć\n",
    "\n",
    "pula = 49\n",
    "wyn = 1\n",
    "for i in range(6):\n",
    "    wyn *= pula\n",
    "    pula -= 1\n",
    "print(wyn)"
   ]
  },
  {
   "cell_type": "markdown",
   "metadata": {},
   "source": [
    "Zadanie 6.0.5"
   ]
  },
  {
   "cell_type": "code",
   "execution_count": 39,
   "metadata": {},
   "outputs": [
    {
     "name": "stdout",
     "output_type": "stream",
     "text": [
      "1\n",
      "2, 2\n",
      "3, 3, 3\n",
      "4, 4\n",
      "5\n",
      "6\n",
      "7\n",
      "8, 8\n",
      "9, 9, 9\n",
      "10, 10\n"
     ]
    }
   ],
   "source": [
    "for i in range(1, 11):\n",
    "    if(i % 2 == 0 and i % 3 == 0):\n",
    "        print(i)\n",
    "    elif(i % 2 == 0):\n",
    "        print(i, i, sep=', ')\n",
    "    elif(i % 3 == 0):\n",
    "        print(i, i, i, sep = ', ')\n",
    "    else:\n",
    "        print(i)"
   ]
  },
  {
   "cell_type": "markdown",
   "metadata": {},
   "source": [
    "Zadanie 6.0.6"
   ]
  },
  {
   "cell_type": "code",
   "execution_count": 42,
   "metadata": {},
   "outputs": [
    {
     "name": "stdout",
     "output_type": "stream",
     "text": [
      "Liczba możliwych losowań 3 liczb : 110544\n",
      "0.00018092343320306846\n"
     ]
    }
   ],
   "source": [
    "#Jeśli dobrze zrozumiałem, losujemy 6 liczb, po wylosowaniu liczba nie może się powtórzyć. Dowolne 3 z nich muszą być trafione\n",
    "# ***xxx **x*xx \n",
    "\n",
    "# Mamy dwumian (3 6) możliwości wyboru liczb trafionych\n",
    "# Dla każdej z nich szansa wynosi 1/49 * 1/48 * 1/47\n",
    "\n",
    "def sil(a):\n",
    "    wyn = 1\n",
    "    while(a >= 1):\n",
    "        wyn *= a\n",
    "        a -= 1\n",
    "    return wyn\n",
    "\n",
    "pula = 49\n",
    "wyn = 1\n",
    "for i in range(3):\n",
    "    wyn *= pula\n",
    "    pula -= 1\n",
    "#print(\"Liczba możliwych losowań 3 liczb :\", wyn)\n",
    "wyn = 1 / wyn\n",
    "wyn *= sil(6) / (sil(3) * sil(3))\n",
    "print( wyn )\n"
   ]
  },
  {
   "cell_type": "markdown",
   "metadata": {},
   "source": [
    "Zadanie 6.0.7 - Moje ulubione, sito erastotenesa :)))"
   ]
  },
  {
   "cell_type": "code",
   "execution_count": 43,
   "metadata": {},
   "outputs": [
    {
     "name": "stdout",
     "output_type": "stream",
     "text": [
      "2\n",
      "3\n",
      "5\n",
      "7\n",
      "11\n",
      "13\n",
      "17\n",
      "19\n",
      "23\n",
      "29\n",
      "31\n",
      "37\n",
      "41\n",
      "43\n",
      "47\n",
      "53\n",
      "59\n",
      "61\n",
      "67\n",
      "71\n",
      "73\n",
      "79\n",
      "83\n",
      "89\n",
      "97\n",
      "101\n",
      "103\n",
      "107\n",
      "109\n",
      "113\n",
      "127\n",
      "131\n",
      "137\n",
      "139\n",
      "149\n",
      "151\n",
      "157\n",
      "163\n",
      "167\n",
      "173\n",
      "179\n",
      "181\n",
      "191\n",
      "193\n",
      "197\n",
      "199\n",
      "211\n",
      "223\n",
      "227\n",
      "229\n",
      "233\n",
      "239\n",
      "241\n",
      "251\n",
      "257\n",
      "263\n",
      "269\n",
      "271\n",
      "277\n",
      "281\n",
      "283\n",
      "293\n",
      "307\n",
      "311\n",
      "313\n",
      "317\n",
      "331\n",
      "337\n",
      "347\n",
      "349\n",
      "353\n",
      "359\n",
      "367\n",
      "373\n",
      "379\n",
      "383\n",
      "389\n",
      "397\n",
      "401\n",
      "409\n",
      "419\n",
      "421\n",
      "431\n",
      "433\n",
      "439\n",
      "443\n",
      "449\n",
      "457\n",
      "461\n",
      "463\n",
      "467\n",
      "479\n",
      "487\n",
      "491\n",
      "499\n",
      "503\n",
      "509\n",
      "521\n",
      "523\n",
      "541\n",
      "547\n",
      "557\n",
      "563\n",
      "569\n",
      "571\n",
      "577\n",
      "587\n",
      "593\n",
      "599\n",
      "601\n",
      "607\n",
      "613\n",
      "617\n",
      "619\n",
      "631\n",
      "641\n",
      "643\n",
      "647\n",
      "653\n",
      "659\n",
      "661\n",
      "673\n",
      "677\n",
      "683\n",
      "691\n",
      "701\n",
      "709\n",
      "719\n",
      "727\n",
      "733\n",
      "739\n",
      "743\n",
      "751\n",
      "757\n",
      "761\n",
      "769\n",
      "773\n",
      "787\n",
      "797\n",
      "809\n",
      "811\n",
      "821\n",
      "823\n",
      "827\n",
      "829\n",
      "839\n",
      "853\n",
      "857\n",
      "859\n",
      "863\n",
      "877\n",
      "881\n",
      "883\n",
      "887\n",
      "907\n",
      "911\n",
      "919\n",
      "929\n",
      "937\n",
      "941\n",
      "947\n",
      "953\n",
      "967\n",
      "971\n",
      "977\n",
      "983\n",
      "991\n",
      "997\n"
     ]
    }
   ],
   "source": [
    "sito = [True] * 1000 # Przechowywuje czy liczba jest pierwsza\n",
    "\n",
    "for i in range(2, 1000):\n",
    "    if(sito[i]):\n",
    "        print(i)\n",
    "        for j in range(2*i, 1000, i):\n",
    "            sito[j] = False\n"
   ]
  },
  {
   "cell_type": "markdown",
   "metadata": {},
   "source": [
    "Zadanie 6.0.8"
   ]
  },
  {
   "cell_type": "code",
   "execution_count": 48,
   "metadata": {},
   "outputs": [
    {
     "name": "stdout",
     "output_type": "stream",
     "text": [
      "1, \n",
      "1, 1, \n",
      "1, 2, 1, \n",
      "1, 3, 3, 1, \n",
      "1, 4, 6, 4, 1, \n",
      "1, 5, 10, 10, 5, 1, \n"
     ]
    }
   ],
   "source": [
    "n = int ( input() )\n",
    "\n",
    "pascal = [1]\n",
    "\n",
    "for i in range(n):\n",
    "    for j in pascal:\n",
    "        print(j, end = ', ')\n",
    "    print()\n",
    "    n_pascal = [ pascal[0]]\n",
    "    for j in range(len(pascal) - 1):\n",
    "        n_pascal.append(pascal[j] + pascal[j + 1])\n",
    "    n_pascal.append(pascal[-1])\n",
    "    pascal = n_pascal\n",
    "\n",
    "\n"
   ]
  }
 ],
 "metadata": {
  "interpreter": {
   "hash": "916dbcbb3f70747c44a77c7bcd40155683ae19c65e1c03b4aa3499c5328201f1"
  },
  "kernelspec": {
   "display_name": "Python 3.9.7 64-bit",
   "language": "python",
   "name": "python3"
  },
  "language_info": {
   "codemirror_mode": {
    "name": "ipython",
    "version": 3
   },
   "file_extension": ".py",
   "mimetype": "text/x-python",
   "name": "python",
   "nbconvert_exporter": "python",
   "pygments_lexer": "ipython3",
   "version": "3.9.7"
  },
  "orig_nbformat": 4
 },
 "nbformat": 4,
 "nbformat_minor": 2
}
