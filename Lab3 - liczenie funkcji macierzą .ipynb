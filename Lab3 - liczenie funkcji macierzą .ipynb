{
 "cells": [
  {
   "cell_type": "markdown",
   "metadata": {},
   "source": [
    "1. Deklaracja klasy 'matrix', która obsługuje mnożenie i potęgowanie macierzy"
   ]
  },
  {
   "cell_type": "code",
   "execution_count": 30,
   "metadata": {},
   "outputs": [
    {
     "name": "stdout",
     "output_type": "stream",
     "text": [
      "[[5, 4], [4, 5]]\n",
      "[[13, 14], [14, 13]]\n"
     ]
    }
   ],
   "source": [
    "\n",
    "\n",
    "class matrix:\n",
    "    def __init__(self, vals = [[1, 0], [0, 1]]):\n",
    "        self.mac = vals\n",
    "\n",
    "    def __mul__(self, oth):\n",
    "        if( len ( self.mac[0] ) != len(oth.mac)):\n",
    "            raise AttributeError('Width of the first matrix MUST match the height of the second matrix')\n",
    "        w = len(self.mac) \n",
    "        h = len(oth.mac[0])\n",
    "        gl = len(self.mac[0])\n",
    "        new = [[0] * w  for i in range(h)]\n",
    "        for i in range(h):\n",
    "            for j in range(w):\n",
    "                for t in range(gl):\n",
    "                    new[i][j] += self.mac[i][t] * oth.mac[t][j]\n",
    "                #print(new[i][j])\n",
    "        return matrix(new)\n",
    "    \n",
    "    #Potęgowanie za pomocą szybkiego potęgowania macierzy\n",
    "    \n",
    "    def __pow__(self, exp):\n",
    "\n",
    "        res = matrix()  \n",
    "        c_base = matrix(self.mac)\n",
    "\n",
    "        it_bit = 1\n",
    "        while(it_bit <= exp):\n",
    "            if(it_bit & exp):\n",
    "                res *= c_base\n",
    "            c_base *= c_base\n",
    "            it_bit <<= 1\n",
    "        \n",
    "        return res\n",
    "        \n",
    "\n",
    "\n",
    "a = matrix([[1, 2], [2, 1]])\n",
    "\n",
    "print( (a**2).mac )\n",
    "print( (a**3).mac)\n",
    "\n",
    "\n",
    "\n",
    "\n",
    "    "
   ]
  },
  {
   "cell_type": "markdown",
   "metadata": {},
   "source": [
    "2. Test dla prostej funkcji z dx/dt = kx "
   ]
  },
  {
   "cell_type": "code",
   "execution_count": 41,
   "metadata": {},
   "outputs": [
    {
     "data": {
      "image/png": "[encoded data removed]",
      "text/plain": [
       "<Figure size 432x288 with 1 Axes>"
      ]
     },
     "metadata": {
      "needs_background": "light"
     },
     "output_type": "display_data"
    }
   ],
   "source": [
    "from matplotlib import pyplot as plt\n",
    "# x(t) = x(t-1) + ( k * x(t-1) ) * dt\n",
    "def gen_fun1(k, dt):\n",
    "    return matrix([\n",
    "        [k*dt, k*dt],\n",
    "        [1   , 1] ])\n",
    "\n",
    "x0 = 1\n",
    "\n",
    "m_dt = 0.01\n",
    "r_dt = 0.1\n",
    "t_max = 10\n",
    "\n",
    "t = [0]\n",
    "x = [x0]\n",
    "\n",
    "x_mac = matrix ( [[x0, x0], [0,0]] )\n",
    "f1_mac = gen_fun1(1, m_dt)\n",
    "f1_mac = f1_mac**( int ( r_dt / m_dt ) ) # 1 przeskok jest 10 razy większy. MUSI BYĆ CAŁKOWITE\n",
    "\n",
    "while ( t[-1] < t_max):\n",
    "    t.append ( round ( t[-1] + r_dt, 12 ) )\n",
    "    x_mac *= f1_mac\n",
    "    x.append ( x_mac.mac[0][0] )\n",
    "\n",
    "plt.plot(t, x)\n",
    "plt.show()"
   ]
  },
  {
   "cell_type": "markdown",
   "metadata": {},
   "source": [
    "2b. Prównanie side-by-side"
   ]
  },
  {
   "cell_type": "code",
   "execution_count": 56,
   "metadata": {},
   "outputs": [
    {
     "name": "stdout",
     "output_type": "stream",
     "text": [
      "[[0.1, 0.1], [1.0, 1.0]]\n",
      "Rozmiar tablicy : 101\n",
      "[[0.010936852726843607, 0.010936852726843607], [1.0936852726843609, 1.0936852726843609]]\n",
      "Rozmiar tablicy : 101\n",
      "[[1.1051593139011934e-05, 1.1051593139011934e-05], [1.1051593139011935, 1.1051593139011935]]\n",
      "Rozmiar tablicy : 101\n",
      "[[1.0000000000000042e-16, 1.0000000000000042e-16], [1.0, 1.0]]\n",
      "Rozmiar tablicy : 101\n"
     ]
    },
    {
     "data": {
      "image/png": "[encoded data removed]",
      "text/plain": [
       "<Figure size 432x288 with 1 Axes>"
      ]
     },
     "metadata": {
      "needs_background": "light"
     },
     "output_type": "display_data"
    }
   ],
   "source": [
    "\n",
    "r_dt = 0.1\n",
    "t_max = 10\n",
    "\n",
    "legend = []\n",
    "\n",
    "for m_dt in [0.1, 0.01, 0.00001, 0.0000000000000001]:\n",
    "    x0 = 1\n",
    "    \n",
    "    t = [0]\n",
    "    x = [x0]\n",
    "\n",
    "    x_mac = matrix ( [[x0, x0], [0,0]] )\n",
    "    f1_mac = gen_fun1(1, m_dt)\n",
    "    f1_mac = f1_mac**( int ( r_dt / m_dt ) ) # 1 przeskok jest 10 razy większy. MUSI BYĆ CAŁKOWITE\n",
    "    print(f1_mac.mac)\n",
    "    while ( t[-1] < t_max):\n",
    "        t.append ( round ( t[-1] + r_dt, 12 ) )\n",
    "        x_mac *= f1_mac\n",
    "        x.append ( x_mac.mac[0][0] )\n",
    "\n",
    "    plt.plot(t, x)\n",
    "    print( \"Rozmiar tablicy :\" , len(x) )\n",
    "    legend.append( \"dt = \" + str(m_dt) )\n",
    "\n",
    "plt.legend(legend)\n",
    "\n",
    "plt.show()"
   ]
  },
  {
   "cell_type": "markdown",
   "metadata": {},
   "source": [
    "Obserwacja : dx nie może być mniejsze niż 1e-16, bo inaczej python zaokrągla zmiany do 1 (do naprawy)"
   ]
  },
  {
   "cell_type": "markdown",
   "metadata": {},
   "source": [
    "Konkluzja : Nie udało się osiągnąć zamierzanej dokładności, jednak postęp jest spory - wykres z dokładnością 1e-16 iteracyjnie kalkulowałby się 10^10 sekund lub 321 lat (w pythonie)"
   ]
  }
 ],
 "metadata": {
  "interpreter": {
   "hash": "916dbcbb3f70747c44a77c7bcd40155683ae19c65e1c03b4aa3499c5328201f1"
  },
  "kernelspec": {
   "display_name": "Python 3.9.7 64-bit",
   "language": "python",
   "name": "python3"
  },
  "language_info": {
   "codemirror_mode": {
    "name": "ipython",
    "version": 3
   },
   "file_extension": ".py",
   "mimetype": "text/x-python",
   "name": "python",
   "nbconvert_exporter": "python",
   "pygments_lexer": "ipython3",
   "version": "3.9.7"
  },
  "orig_nbformat": 4
 },
 "nbformat": 4,
 "nbformat_minor": 2
}
