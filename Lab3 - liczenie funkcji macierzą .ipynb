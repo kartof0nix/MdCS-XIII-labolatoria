{
 "cells": [
  {
   "cell_type": "code",
   "execution_count": 30,
   "metadata": {},
   "outputs": [
    {
     "name": "stdout",
     "output_type": "stream",
     "text": [
      "[[5, 4], [4, 5]]\n",
      "[[13, 14], [14, 13]]\n"
     ]
    }
   ],
   "source": [
    "\n",
    "\n",
    "class matrix:\n",
    "    def __init__(self, vals = [[1, 0], [0, 1]]):\n",
    "        self.mac = vals\n",
    "\n",
    "    def __mul__(self, oth):\n",
    "        if( len ( self.mac[0] ) != len(oth.mac)):\n",
    "            raise AttributeError('Width of the first matrix MUST match the height of the second matrix')\n",
    "        w = len(self.mac) \n",
    "        h = len(oth.mac[0])\n",
    "        gl = len(self.mac[0])\n",
    "        new = [[0] * w  for i in range(h)]\n",
    "        for i in range(h):\n",
    "            for j in range(w):\n",
    "                for t in range(gl):\n",
    "                    new[i][j] += self.mac[i][t] * oth.mac[t][j]\n",
    "                #print(new[i][j])\n",
    "        return matrix(new)\n",
    "    \n",
    "    #Potęgowanie za pomocą szybkiego potęgowania macierzy\n",
    "    \n",
    "    def __pow__(self, exp):\n",
    "\n",
    "        res = matrix()  \n",
    "        c_base = matrix(self.mac)\n",
    "\n",
    "        it_bit = 1\n",
    "        while(it_bit <= exp):\n",
    "            if(it_bit & exp):\n",
    "                res *= c_base\n",
    "            c_base *= c_base\n",
    "            it_bit <<= 1\n",
    "        \n",
    "        return res\n",
    "        \n",
    "\n",
    "\n",
    "\n",
    "\n",
    "\n",
    "\n",
    "\n",
    "a = matrix([[1, 2], [2, 1]])\n",
    "\n",
    "print( (a**2).mac )\n",
    "print( (a**3).mac)\n",
    "\n",
    "\n",
    "\n",
    "\n",
    "    "
   ]
  }
 ],
 "metadata": {
  "interpreter": {
   "hash": "916dbcbb3f70747c44a77c7bcd40155683ae19c65e1c03b4aa3499c5328201f1"
  },
  "kernelspec": {
   "display_name": "Python 3.9.7 64-bit",
   "language": "python",
   "name": "python3"
  },
  "language_info": {
   "codemirror_mode": {
    "name": "ipython",
    "version": 3
   },
   "file_extension": ".py",
   "mimetype": "text/x-python",
   "name": "python",
   "nbconvert_exporter": "python",
   "pygments_lexer": "ipython3",
   "version": "3.9.7"
  },
  "orig_nbformat": 4
 },
 "nbformat": 4,
 "nbformat_minor": 2
}
